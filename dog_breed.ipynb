{
 "metadata": {
  "language_info": {
   "codemirror_mode": {
    "name": "ipython",
    "version": 3
   },
   "file_extension": ".py",
   "mimetype": "text/x-python",
   "name": "python",
   "nbconvert_exporter": "python",
   "pygments_lexer": "ipython3",
   "version": "3.7.5-final"
  },
  "orig_nbformat": 2,
  "kernelspec": {
   "name": "python37564bit0c1bca6249c346019beab994c59ed139",
   "display_name": "Python 3.7.5 64-bit"
  }
 },
 "nbformat": 4,
 "nbformat_minor": 2,
 "cells": [
  {
   "cell_type": "code",
   "execution_count": 13,
   "metadata": {},
   "outputs": [],
   "source": [
    "import numpy as np\n",
    "import pandas as pd "
   ]
  },
  {
   "source": [
    "Training Images Preprocessing"
   ],
   "cell_type": "markdown",
   "metadata": {}
  },
  {
   "cell_type": "code",
   "execution_count": 8,
   "metadata": {
    "tags": []
   },
   "outputs": [
    {
     "output_type": "stream",
     "name": "stdout",
     "text": "Found 1427 images belonging to 10 classes.\n"
    }
   ],
   "source": [
    "from tensorflow.keras.preprocessing.image import ImageDataGenerator\n",
    "idg_train=ImageDataGenerator(rescale=1./250,\n",
    "                              zoom_range=0.2,\n",
    "                              shear_range=0.2)\n",
    "train_data=idg.flow_from_directory(\n",
    "                                  'images/train',\n",
    "                                   target_size=(64,64),\n",
    "                                   batch_size=32,\n",
    "                                   class_mode='categorical')"
   ]
  },
  {
   "source": [
    "Testing Images(Validation_set) Preprocessing"
   ],
   "cell_type": "markdown",
   "metadata": {}
  },
  {
   "cell_type": "code",
   "execution_count": 9,
   "metadata": {
    "tags": []
   },
   "outputs": [
    {
     "output_type": "stream",
     "name": "stdout",
     "text": "Found 285 images belonging to 10 classes.\n"
    }
   ],
   "source": [
    "idg_test=ImageDataGenerator(rescale=1./250)\n",
    "test_data=idg.flow_from_directory('images/test',\n",
    "                                   target_size=(64,64),\n",
    "                                   batch_size=32,\n",
    "                                   class_mode='categorical').to"
   ]
  },
  {
   "source": [
    "Model"
   ],
   "cell_type": "markdown",
   "metadata": {}
  },
  {
   "cell_type": "code",
   "execution_count": null,
   "metadata": {},
   "outputs": [],
   "source": [
    "from tensorflow.keras.models import Sequential\n",
    "from tensorflow.keras.layers import Conv2D,MaxPool2D,Flatten,Dense,Droupout\n",
    "\n",
    "cnn=Sequential()\n",
    "cnn.add(Conv2D(filter=16,kernal_size=2,activation='relu',input_shape=[64,64,3]))\n",
    "cnn.add(MaxPool2D(pool_size=2,strides=2))\n",
    "cnn.add(Conv2D(filter=32,kernal_size=2,activation='relu'))\n",
    "cnn.add(MaxPool2D(pool_size=2,strides=2))\n",
    "cnn.add(Conv2D(filter=64,kernal_size=2,activation='relu'))\n",
    "cnn.add(MaxPool2D(pool_size=2,strides=2))\n",
    "cnn.add(Flatten())\n",
    "cnn.add(Dense(units=128,activation'relu'))\n",
    "cnn.add(Dense(units=10,activation='relu'))\n"
   ]
  }
 ]
}